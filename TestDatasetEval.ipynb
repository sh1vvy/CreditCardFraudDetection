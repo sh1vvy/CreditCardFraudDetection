{
 "cells": [
  {
   "cell_type": "code",
   "execution_count": 21,
   "id": "de97ee23-470b-4c23-8d79-2d9e8317cf1a",
   "metadata": {},
   "outputs": [],
   "source": [
    "import pandas as pd\n",
    "from tensorflow.keras.models import load_model\n",
    "from sklearn.preprocessing import StandardScaler, LabelEncoder\n",
    "from sklearn.metrics import classification_report, confusion_matrix, roc_auc_score\n",
    "import matplotlib.pyplot as plt\n",
    "import seaborn as sns"
   ]
  },
  {
   "cell_type": "code",
   "execution_count": 10,
   "id": "b84d404b-a3eb-46ee-966f-b7489cd287a0",
   "metadata": {},
   "outputs": [],
   "source": [
    "df_test = pd.read_csv('fraudTest.csv')"
   ]
  },
  {
   "cell_type": "code",
   "execution_count": 11,
   "id": "d6d86173-6f40-4340-8c80-202d01a0443e",
   "metadata": {},
   "outputs": [],
   "source": [
    "df_test = df_test.drop(['Unnamed: 0','first', 'last', 'state', 'city_pop', 'job', 'dob'], axis=1)"
   ]
  },
  {
   "cell_type": "code",
   "execution_count": 12,
   "id": "80316312-bc32-4c58-abcc-b9981dfa7ab4",
   "metadata": {},
   "outputs": [],
   "source": [
    "enc = LabelEncoder()\n",
    "df_test['category'] = enc.fit_transform(df_test['category'])\n",
    "df_test['street'] = enc.fit_transform(df_test['street'])\n",
    "df_test['gender'] = enc.fit_transform(df_test['gender'])\n",
    "df_test['city'] = enc.fit_transform(df_test['city'])\n",
    "df_test['merchant'] = enc.fit_transform(df_test['merchant'])\n",
    "df_test['trans_num'] = enc.fit_transform(df_test['trans_num'])\n",
    "df_test['trans_date_trans_time'] = enc.fit_transform(df_test['trans_date_trans_time'])"
   ]
  },
  {
   "cell_type": "code",
   "execution_count": 13,
   "id": "42684a01-95fc-41d4-904f-a2251261575a",
   "metadata": {},
   "outputs": [],
   "source": [
    "scaler = StandardScaler()\n",
    "X_test_scaled = scaler.fit_transform(df_test.drop('is_fraud', axis=1))"
   ]
  },
  {
   "cell_type": "code",
   "execution_count": 14,
   "id": "54dc5427-56b3-4a06-b591-33015fb9f602",
   "metadata": {},
   "outputs": [
    {
     "name": "stderr",
     "output_type": "stream",
     "text": [
      "C:\\Users\\hamps\\anaconda3\\Lib\\site-packages\\keras\\src\\saving\\saving_lib.py:713: UserWarning: Skipping variable loading for optimizer 'rmsprop', because it has 8 variables whereas the saved optimizer has 14 variables. \n",
      "  saveable.load_own_variables(weights_store.get(inner_path))\n"
     ]
    }
   ],
   "source": [
    "model = load_model('deep_learning_model.keras')"
   ]
  },
  {
   "cell_type": "code",
   "execution_count": 15,
   "id": "d9cc9c3e-065a-44dc-9fb4-3c3fbf4734bf",
   "metadata": {},
   "outputs": [
    {
     "name": "stdout",
     "output_type": "stream",
     "text": [
      "\u001b[1m17367/17367\u001b[0m \u001b[32m━━━━━━━━━━━━━━━━━━━━\u001b[0m\u001b[37m\u001b[0m \u001b[1m10s\u001b[0m 584us/step\n"
     ]
    }
   ],
   "source": [
    "# Make predictions on the test set\n",
    "y_test = df_test['is_fraud']\n",
    "y_pred = model.predict(X_test_scaled)\n",
    "y_pred_binary = (y_pred > 0.5).astype(\"int32\")  # Assuming binary classification"
   ]
  },
  {
   "cell_type": "code",
   "execution_count": 16,
   "id": "bb261ee3-a922-49a7-8078-ff70a15328f8",
   "metadata": {},
   "outputs": [
    {
     "name": "stdout",
     "output_type": "stream",
     "text": [
      "Confusion Matrix:\n",
      "[[537542  16032]\n",
      " [   349   1796]]\n",
      "Classification Report:\n",
      "              precision    recall  f1-score   support\n",
      "\n",
      "           0       1.00      0.97      0.98    553574\n",
      "           1       0.10      0.84      0.18      2145\n",
      "\n",
      "    accuracy                           0.97    555719\n",
      "   macro avg       0.55      0.90      0.58    555719\n",
      "weighted avg       1.00      0.97      0.98    555719\n",
      "\n",
      "ROC-AUC Score: 0.9041675697830069\n"
     ]
    }
   ],
   "source": [
    "# Evaluate the model\n",
    "print(\"Confusion Matrix:\")\n",
    "print(confusion_matrix(y_test, y_pred_binary))\n",
    "\n",
    "print(\"Classification Report:\")\n",
    "print(classification_report(y_test, y_pred_binary))\n",
    "\n",
    "print(\"ROC-AUC Score:\", roc_auc_score(y_test, y_pred_binary))\n"
   ]
  },
  {
   "cell_type": "code",
   "execution_count": 17,
   "id": "bdf144b8-6884-4925-ba6b-ca148154ad08",
   "metadata": {},
   "outputs": [],
   "source": [
    "DL_conf_mat = confusion_matrix(y_test, y_pred_binary)"
   ]
  },
  {
   "cell_type": "code",
   "execution_count": 22,
   "id": "2652a048-18f6-4eac-a8ee-4e4dadb5c2ec",
   "metadata": {},
   "outputs": [
    {
     "data": {
      "text/plain": [
       "<Axes: >"
      ]
     },
     "execution_count": 22,
     "metadata": {},
     "output_type": "execute_result"
    },
    {
     "data": {
      "image/png": "[encoded data removed]",
      "text/plain": [
       "<Figure size 600x500 with 2 Axes>"
      ]
     },
     "metadata": {},
     "output_type": "display_data"
    }
   ],
   "source": [
    "fig,axes = plt.subplots(figsize=(6,5))\n",
    "sns.heatmap(DL_conf_mat,annot=True,axes=axes,cmap='Greens',fmt='d')"
   ]
  },
  {
   "cell_type": "code",
   "execution_count": null,
   "id": "35e6a887-6ff5-4bc0-b0f6-f749ff03d3bd",
   "metadata": {},
   "outputs": [],
   "source": []
  }
 ],
 "metadata": {
  "kernelspec": {
   "display_name": "Python 3 (ipykernel)",
   "language": "python",
   "name": "python3"
  },
  "language_info": {
   "codemirror_mode": {
    "name": "ipython",
    "version": 3
   },
   "file_extension": ".py",
   "mimetype": "text/x-python",
   "name": "python",
   "nbconvert_exporter": "python",
   "pygments_lexer": "ipython3",
   "version": "3.12.4"
  }
 },
 "nbformat": 4,
 "nbformat_minor": 5
}
